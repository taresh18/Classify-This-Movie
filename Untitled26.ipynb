{
  "nbformat": 4,
  "nbformat_minor": 0,
  "metadata": {
    "colab": {
      "name": "Untitled26.ipynb",
      "provenance": [],
      "authorship_tag": "ABX9TyM1WLurCmKBZ3v/KOqeYcCE",
      "include_colab_link": true
    },
    "kernelspec": {
      "name": "python3",
      "display_name": "Python 3"
    },
    "language_info": {
      "name": "python"
    }
  },
  "cells": [
    {
      "cell_type": "markdown",
      "metadata": {
        "id": "view-in-github",
        "colab_type": "text"
      },
      "source": [
        "<a href=\"https://colab.research.google.com/github/taresh18/Classify-This-Movie/blob/main/Untitled26.ipynb\" target=\"_parent\"><img src=\"https://colab.research.google.com/assets/colab-badge.svg\" alt=\"Open In Colab\"/></a>"
      ]
    },
    {
      "cell_type": "code",
      "metadata": {
        "id": "QDR1X4MoMI0X"
      },
      "source": [
        "import os\n",
        "os.environ['KAGGLE_USERNAME'] = \"XXXXXXXX\" # username from the kaggle json file\n",
        "os.environ['KAGGLE_KEY'] = \"XXXXXXXXXXXXXXXXXXXXXX\" # key from the kaggle json file\n",
        "!kaggle datasets download -d sshukla21/clabscvcomp # api copied from kaggle\n",
        "!unzip -qq clabscvcomp.zip\n",
        "!rm -r clabscvcomp.zip"
      ],
      "execution_count": null,
      "outputs": []
    },
    {
      "cell_type": "code",
      "metadata": {
        "id": "zBFau_lnMLzp"
      },
      "source": [
        "# Importing libraries\n",
        "from fastai import *\n",
        "from fastai.vision import *\n",
        "from sklearn.metrics import f1_score"
      ],
      "execution_count": 1,
      "outputs": []
    },
    {
      "cell_type": "code",
      "metadata": {
        "id": "8OJ7uEn7MMRW"
      },
      "source": [
        "# Seed everything for reproductibility\n",
        "def seed_everything(seed):\n",
        "    random.seed(seed)\n",
        "    os.environ['PYTHONHASHSEED'] = str(seed)\n",
        "    np.random.seed(seed)\n",
        "    torch.manual_seed(seed)\n",
        "    torch.cuda.manual_seed(seed)\n",
        "    torch.backends.cudnn.deterministic = True\n",
        "seed_everything(43)"
      ],
      "execution_count": null,
      "outputs": []
    },
    {
      "cell_type": "code",
      "metadata": {
        "id": "WMjG4O_LMMxL"
      },
      "source": [
        "train = pd.read_csv('../input/clabscvcomp/data/train.csv')\n",
        "test_df = pd.read_csv('../input/clabscvcomp/data/sample_submission.csv')\n",
        "\n",
        "train.head() "
      ],
      "execution_count": null,
      "outputs": []
    },
    {
      "cell_type": "code",
      "metadata": {
        "id": "gb1b64y2MgVr"
      },
      "source": [
        "sorted(train.genres.unique()) "
      ],
      "execution_count": null,
      "outputs": []
    },
    {
      "cell_type": "code",
      "metadata": {
        "id": "9ujuP7cpMg1V"
      },
      "source": [
        "train.genres.value_counts(normalize=True)"
      ],
      "execution_count": null,
      "outputs": []
    },
    {
      "cell_type": "code",
      "metadata": {
        "id": "AppLEmBcMm5u"
      },
      "source": [
        "# Augmentations\n",
        "sz = 512 ## Image size\n",
        "bs = 32 ## Batch size\n",
        "tfms = get_transforms( ## Transformation to apply on Train data\n",
        "    do_flip=True, ## Horizontal flip\n",
        "    flip_vert=False, ## Vertical flip\n",
        "    max_rotate=45, ## Rotation\n",
        "    max_zoom=2, ## Center zoom\n",
        "    max_lighting=0.75 ## lighting\n",
        ")"
      ],
      "execution_count": null,
      "outputs": []
    },
    {
      "cell_type": "code",
      "metadata": {
        "id": "G0CPz4gdMuY5"
      },
      "source": [
        "data = (\n",
        "    ImageList.from_df(df=train, path='', folder='../input/clabscvcomp/data/train_data/', cols='id', suffix = '.jpg') ## define data path\n",
        "    .split_by_rand_pct(valid_pct=0.2) ## validation split\n",
        "    .label_from_df(cols='genres') ## load labels from\n",
        "    .transform(tfms, size=sz)\n",
        "    .databunch(bs=bs, num_workers=4) \n",
        "    .normalize(imagenet_stats)\n",
        "    )"
      ],
      "execution_count": null,
      "outputs": []
    },
    {
      "cell_type": "code",
      "metadata": {
        "id": "g_0R6zHkMy3s"
      },
      "source": [
        "test_data = ImageList.from_df(test_df, path='../input/clabscvcomp/data/test_data/', cols='id', suffix = '.jpg')\n",
        "data.add_test(test_data)"
      ],
      "execution_count": null,
      "outputs": []
    },
    {
      "cell_type": "code",
      "metadata": {
        "id": "6qKHmL4pM1M3"
      },
      "source": [
        "data.show_batch(3)"
      ],
      "execution_count": null,
      "outputs": []
    },
    {
      "cell_type": "code",
      "metadata": {
        "id": "iZlaROzfNJxf"
      },
      "source": [
        "def F1(y_pred, y):\n",
        "    y_pred = y_pred.softmax(dim=1) \n",
        "    y_pred = y_pred.argmax(dim=1)\n",
        "    return torch.tensor(f1_score(y.cpu(), y_pred.cpu(), labels=list(range(10)), average='weighted'),device='cuda:0')"
      ],
      "execution_count": null,
      "outputs": []
    },
    {
      "cell_type": "code",
      "metadata": {
        "id": "e2JMjfWlNJiW"
      },
      "source": [
        "# Learner for FastAI\n",
        "learn = cnn_learner(\n",
        "                    data, ## DataBunch\n",
        "                    models.resnet50, ## Resnet50 \n",
        "                    metrics=[F1, accuracy], ## Matrices\n",
        "                    callback_fns=ShowGraph ## Allows us to visualize training\n",
        ")"
      ],
      "execution_count": null,
      "outputs": []
    },
    {
      "cell_type": "code",
      "metadata": {
        "id": "Rndo62ZWNNYb"
      },
      "source": [
        "learn.freeze() \n",
        "learn.fit_one_cycle(5)"
      ],
      "execution_count": null,
      "outputs": []
    },
    {
      "cell_type": "code",
      "metadata": {
        "id": "c5R6b0LfNWTc"
      },
      "source": [
        "learn.unfreeze()\n",
        "learn.lr_find()\n",
        "learn.recorder.plot(suggestion=True)"
      ],
      "execution_count": null,
      "outputs": []
    },
    {
      "cell_type": "code",
      "metadata": {
        "id": "5IpTizBjNY-0"
      },
      "source": [
        "learn.fit_one_cycle(20, max_lr=slice(1e-4, 1e-3))"
      ],
      "execution_count": null,
      "outputs": []
    },
    {
      "cell_type": "code",
      "metadata": {
        "id": "tMRMXC50Nb61"
      },
      "source": [
        "preds = learn.get_preds(ds_type=DatasetType.Test) ## get prediction in test data\n",
        "preds = np.argmax(preds[0].numpy(),axis = 1)\n",
        "categories = sorted(train.genres.unique().astype('str'))\n",
        "final_preds = []\n",
        "for idx in preds:\n",
        "    final_preds.append(categories[idx])\n",
        "final_submit = pd.read_csv('../input/clabscvcomp/data/sample_submission.csv')\n",
        "final_submit.genres = final_preds\n",
        "final_submit.head()\n",
        "final_submit.to_csv('submission.csv',index = False)"
      ],
      "execution_count": null,
      "outputs": []
    },
    {
      "cell_type": "code",
      "metadata": {
        "id": "KQem1_DqNfbw"
      },
      "source": [
        ""
      ],
      "execution_count": null,
      "outputs": []
    }
  ]
}